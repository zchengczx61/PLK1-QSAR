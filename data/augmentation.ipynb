{
 "cells": [
  {
   "cell_type": "markdown",
   "metadata": {
    "id": "sB_JMVm0OGoy"
   },
   "source": [
    "#Data Augmentation"
   ]
  },
  {
   "cell_type": "code",
   "execution_count": null,
   "metadata": {
    "colab": {
     "base_uri": "https://localhost:8080/"
    },
    "executionInfo": {
     "elapsed": 12066,
     "status": "ok",
     "timestamp": 1648428890446,
     "user": {
      "displayName": "anzz cheng",
      "photoUrl": "https://lh3.googleusercontent.com/a/default-user=s64",
      "userId": "12362842211217554549"
     },
     "user_tz": -480
    },
    "id": "EG_qFkMDu211",
    "outputId": "ae12e9ab-fa3f-42a6-ad84-6d73a8b0d3ed"
   },
   "outputs": [
    {
     "name": "stdout",
     "output_type": "stream",
     "text": [
      "Collecting rdkit-pypi\n",
      "  Downloading rdkit_pypi-2021.9.5.1-cp37-cp37m-manylinux_2_17_x86_64.manylinux2014_x86_64.whl (22.3 MB)\n",
      "\u001b[K     |████████████████████████████████| 22.3 MB 42.9 MB/s \n",
      "\u001b[?25hRequirement already satisfied: Pillow in /usr/local/lib/python3.7/dist-packages (from rdkit-pypi) (7.1.2)\n",
      "Requirement already satisfied: numpy>=1.19 in /usr/local/lib/python3.7/dist-packages (from rdkit-pypi) (1.21.5)\n",
      "Installing collected packages: rdkit-pypi\n",
      "Successfully installed rdkit-pypi-2021.9.5.1\n"
     ]
    }
   ],
   "source": [
    "!pip install rdkit-pypi"
   ]
  },
  {
   "cell_type": "code",
   "execution_count": null,
   "metadata": {
    "id": "e2S8MMwgy-qv"
   },
   "outputs": [],
   "source": [
    "from google.colab import drive"
   ]
  },
  {
   "cell_type": "code",
   "execution_count": null,
   "metadata": {
    "colab": {
     "base_uri": "https://localhost:8080/"
    },
    "executionInfo": {
     "elapsed": 27278,
     "status": "ok",
     "timestamp": 1648428926036,
     "user": {
      "displayName": "anzz cheng",
      "photoUrl": "https://lh3.googleusercontent.com/a/default-user=s64",
      "userId": "12362842211217554549"
     },
     "user_tz": -480
    },
    "id": "nCcoiPTDzD0Q",
    "outputId": "0fe2dfba-c6fc-4b4c-d415-3ae59c211f1f"
   },
   "outputs": [
    {
     "name": "stdout",
     "output_type": "stream",
     "text": [
      "Mounted at /content/drive\n"
     ]
    }
   ],
   "source": [
    "drive.mount('/content/drive')"
   ]
  },
  {
   "cell_type": "code",
   "execution_count": null,
   "metadata": {
    "id": "v2lQfX_oAUc4"
   },
   "outputs": [],
   "source": [
    "from __future__ import print_function\n",
    "from __future__ import division\n",
    "from __future__ import unicode_literals"
   ]
  },
  {
   "cell_type": "code",
   "execution_count": null,
   "metadata": {
    "id": "jtabGt7qAUrP"
   },
   "outputs": [],
   "source": [
    "from rdkit import Chem\n",
    "import pandas as pd\n",
    "import numpy as np\n",
    "np.random.seed(123)"
   ]
  },
  {
   "cell_type": "code",
   "execution_count": null,
   "metadata": {
    "id": "diz8C5WEA1eR"
   },
   "outputs": [],
   "source": [
    "import tensorflow as tf\n",
    "tf.random.set_seed(123)"
   ]
  },
  {
   "cell_type": "code",
   "execution_count": null,
   "metadata": {
    "id": "hPylU_GxOnD4"
   },
   "outputs": [],
   "source": [
    "training_data = pd.read_csv(\"/content/drive/My Drive/train1.csv\")"
   ]
  },
  {
   "cell_type": "code",
   "execution_count": null,
   "metadata": {
    "id": "_ain7IG9OJa2"
   },
   "outputs": [],
   "source": [
    "def randomize_smiles(smiles):\n",
    "  m = Chem.MolFromSmiles(smiles)\n",
    "  ans = list(range(m.GetNumAtoms()))\n",
    "  np.random.shuffle(ans)\n",
    "  nm = Chem.RenumberAtoms(m,ans)\n",
    "  return Chem.MolToSmiles(nm, canonical=False, isomericSmiles=True)\n"
   ]
  },
  {
   "cell_type": "code",
   "execution_count": null,
   "metadata": {
    "id": "sB4KjgAGUKcb"
   },
   "outputs": [],
   "source": [
    "import io\n",
    "\n",
    "for j in range(len(training_data)):\n",
    "  for i in range(9):\n",
    "    mu, sigma = 0, 0.1\n",
    "    noise = np.random.normal(mu, sigma)\n",
    "\n",
    "    new_data = pd.DataFrame({\"smiles\":[randomize_smiles(training_data.iloc[j]['smiles'])], \"pic50\":[training_data.iloc[j]['pic50'] + noise]})\n",
    "    training_data = training_data.append(new_data, ignore_index=True)"
   ]
  },
  {
   "cell_type": "code",
   "execution_count": null,
   "metadata": {
    "colab": {
     "base_uri": "https://localhost:8080/"
    },
    "executionInfo": {
     "elapsed": 416,
     "status": "ok",
     "timestamp": 1648429135432,
     "user": {
      "displayName": "anzz cheng",
      "photoUrl": "https://lh3.googleusercontent.com/a/default-user=s64",
      "userId": "12362842211217554549"
     },
     "user_tz": -480
    },
    "id": "GFuZqbv0fjwL",
    "outputId": "88684e83-a92a-4212-b28a-ff7d196c7f2a"
   },
   "outputs": [
    {
     "name": "stdout",
     "output_type": "stream",
     "text": [
      "10.0\n"
     ]
    }
   ],
   "source": [
    "print(len(training_data)/792)"
   ]
  },
  {
   "cell_type": "code",
   "execution_count": null,
   "metadata": {
    "id": "WEbLS5aHOIZH"
   },
   "outputs": [],
   "source": [
    "training_data.to_csv('/content/drive/My Drive/train1a.csv')"
   ]
  }
 ],
 "metadata": {
  "accelerator": "TPU",
  "colab": {
   "provenance": []
  },
  "kernelspec": {
   "display_name": "Python 3 (ipykernel)",
   "language": "python",
   "name": "python3"
  },
  "language_info": {
   "codemirror_mode": {
    "name": "ipython",
    "version": 3
   },
   "file_extension": ".py",
   "mimetype": "text/x-python",
   "name": "python",
   "nbconvert_exporter": "python",
   "pygments_lexer": "ipython3",
   "version": "3.8.12"
  }
 },
 "nbformat": 4,
 "nbformat_minor": 1
}
