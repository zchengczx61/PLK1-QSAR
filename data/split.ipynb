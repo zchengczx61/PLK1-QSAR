{
 "cells": [
  {
   "cell_type": "code",
   "execution_count": null,
   "metadata": {
    "colab": {
     "base_uri": "https://localhost:8080/",
     "height": 35
    },
    "executionInfo": {
     "elapsed": 3459,
     "status": "ok",
     "timestamp": 1648245959911,
     "user": {
      "displayName": "anzz cheng",
      "photoUrl": "https://lh3.googleusercontent.com/a/default-user=s64",
      "userId": "12362842211217554549"
     },
     "user_tz": -480
    },
    "id": "EG_qFkMDu211",
    "outputId": "70d6d9a3-1eba-407a-b1e0-d4a06f3b079a"
   },
   "outputs": [
    {
     "data": {
      "application/vnd.google.colaboratory.intrinsic+json": {
       "type": "string"
      },
      "text/plain": [
       "''"
      ]
     },
     "execution_count": 1,
     "metadata": {},
     "output_type": "execute_result"
    }
   ],
   "source": [
    "import tensorflow as tf\n",
    "tf.test.gpu_device_name()\n"
   ]
  },
  {
   "cell_type": "code",
   "execution_count": null,
   "metadata": {
    "id": "nqISFXyhlCU4"
   },
   "outputs": [],
   "source": [
    "from google.colab import drive"
   ]
  },
  {
   "cell_type": "code",
   "execution_count": null,
   "metadata": {
    "colab": {
     "base_uri": "https://localhost:8080/"
    },
    "executionInfo": {
     "elapsed": 31883,
     "status": "ok",
     "timestamp": 1648426073571,
     "user": {
      "displayName": "anzz cheng",
      "photoUrl": "https://lh3.googleusercontent.com/a/default-user=s64",
      "userId": "12362842211217554549"
     },
     "user_tz": -480
    },
    "id": "F18tLorolLKf",
    "outputId": "11aaf0a1-cc0a-46d6-cd6f-fb88c304d610"
   },
   "outputs": [
    {
     "name": "stdout",
     "output_type": "stream",
     "text": [
      "Mounted at /content/drive\n"
     ]
    }
   ],
   "source": [
    "drive.mount('/content/drive')"
   ]
  },
  {
   "cell_type": "code",
   "execution_count": null,
   "metadata": {
    "colab": {
     "base_uri": "https://localhost:8080/"
    },
    "executionInfo": {
     "elapsed": 9350,
     "status": "ok",
     "timestamp": 1648426087135,
     "user": {
      "displayName": "anzz cheng",
      "photoUrl": "https://lh3.googleusercontent.com/a/default-user=s64",
      "userId": "12362842211217554549"
     },
     "user_tz": -480
    },
    "id": "t0CBd2mUj7q3",
    "outputId": "32cab7c5-e9b8-4545-d698-998a8493689f"
   },
   "outputs": [
    {
     "name": "stdout",
     "output_type": "stream",
     "text": [
      "Collecting deepchem\n",
      "  Downloading deepchem-2.6.1-py3-none-any.whl (608 kB)\n",
      "\u001b[K     |████████████████████████████████| 608 kB 5.3 MB/s \n",
      "\u001b[?25hRequirement already satisfied: numpy>=1.21 in /usr/local/lib/python3.7/dist-packages (from deepchem) (1.21.5)\n",
      "Requirement already satisfied: joblib in /usr/local/lib/python3.7/dist-packages (from deepchem) (1.1.0)\n",
      "Collecting rdkit-pypi\n",
      "  Downloading rdkit_pypi-2022.3.1b1-cp37-cp37m-manylinux_2_17_x86_64.manylinux2014_x86_64.whl (22.5 MB)\n",
      "\u001b[K     |████████████████████████████████| 22.5 MB 1.5 MB/s \n",
      "\u001b[?25hRequirement already satisfied: scikit-learn in /usr/local/lib/python3.7/dist-packages (from deepchem) (1.0.2)\n",
      "Requirement already satisfied: pandas in /usr/local/lib/python3.7/dist-packages (from deepchem) (1.3.5)\n",
      "Requirement already satisfied: scipy in /usr/local/lib/python3.7/dist-packages (from deepchem) (1.4.1)\n",
      "Requirement already satisfied: python-dateutil>=2.7.3 in /usr/local/lib/python3.7/dist-packages (from pandas->deepchem) (2.8.2)\n",
      "Requirement already satisfied: pytz>=2017.3 in /usr/local/lib/python3.7/dist-packages (from pandas->deepchem) (2018.9)\n",
      "Requirement already satisfied: six>=1.5 in /usr/local/lib/python3.7/dist-packages (from python-dateutil>=2.7.3->pandas->deepchem) (1.15.0)\n",
      "Requirement already satisfied: Pillow in /usr/local/lib/python3.7/dist-packages (from rdkit-pypi->deepchem) (7.1.2)\n",
      "Requirement already satisfied: threadpoolctl>=2.0.0 in /usr/local/lib/python3.7/dist-packages (from scikit-learn->deepchem) (3.1.0)\n",
      "Installing collected packages: rdkit-pypi, deepchem\n",
      "Successfully installed deepchem-2.6.1 rdkit-pypi-2022.3.1b1\n"
     ]
    }
   ],
   "source": [
    "!pip install --pre deepchem"
   ]
  },
  {
   "cell_type": "code",
   "execution_count": null,
   "metadata": {
    "id": "LkYCUnOI8ClC"
   },
   "outputs": [],
   "source": [
    "from __future__ import print_function\n",
    "from __future__ import division\n",
    "from __future__ import unicode_literals"
   ]
  },
  {
   "cell_type": "code",
   "execution_count": null,
   "metadata": {
    "id": "l9mfQMWn8fKf"
   },
   "outputs": [],
   "source": [
    "import pandas as pd\n",
    "import numpy as np\n",
    "np.random.seed(123)\n"
   ]
  },
  {
   "cell_type": "code",
   "execution_count": null,
   "metadata": {
    "id": "olAUoyHGm0pI"
   },
   "outputs": [],
   "source": [
    "import tensorflow as tf\n",
    "tf.random.set_seed(123)"
   ]
  },
  {
   "cell_type": "code",
   "execution_count": null,
   "metadata": {
    "id": "R41aonGBm7gR"
   },
   "outputs": [],
   "source": [
    "import os\n",
    "import deepchem as dc"
   ]
  },
  {
   "cell_type": "code",
   "execution_count": null,
   "metadata": {
    "id": "e2S8MMwgy-qv"
   },
   "outputs": [],
   "source": [
    "dataset = pd.read_csv(\"/content/drive/My Drive/plk1.csv\")\n",
    "smiles = dataset.iloc[:,2]\n",
    "pic50 = dataset.iloc[:,1]\n",
    "mol = dataset.iloc[:,0]"
   ]
  },
  {
   "cell_type": "code",
   "execution_count": null,
   "metadata": {
    "id": "llyhu7rlIFoQ"
   },
   "outputs": [],
   "source": [
    "dataset = dc.data.NumpyDataset(X=smiles, ids=mol, y=pic50)\n",
    "splitter = dc.splits.RandomSplitter()\n",
    "train, valid, test = splitter.train_valid_test_split(dataset, frac_train=0.8, frac_valid=0.1, frac_test=0.1)\n"
   ]
  },
  {
   "cell_type": "code",
   "execution_count": null,
   "metadata": {
    "id": "vv-sXXNeJxen"
   },
   "outputs": [],
   "source": [
    "train_df = pd.DataFrame(zip(train.ids, train.X, train.y), columns=[\"mol\", \"smiles\", \"pic50\"])\n",
    "test_df = pd.DataFrame(zip(test.ids, test.X, test.y), columns=[\"mol\", \"smiles\", \"pic50\"])\n",
    "valid_df = pd.DataFrame(zip(valid.ids, valid.X, valid.y), columns=[\"mol\", \"smiles\", \"pic50\"])\n"
   ]
  },
  {
   "cell_type": "code",
   "execution_count": null,
   "metadata": {
    "id": "9U8aPPk3Lbsu"
   },
   "outputs": [],
   "source": [
    "train_df.to_csv(\"/content/drive/My Drive/train1.csv\")\n",
    "test_df.to_csv(\"/content/drive/My Drive/test1.csv\")\n",
    "valid_df.to_csv(\"/content/drive/My Drive/valid1.csv\")"
   ]
  },
  {
   "cell_type": "code",
   "execution_count": null,
   "metadata": {
    "id": "fBA4V0jOnJOJ"
   },
   "outputs": [],
   "source": []
  },
  {
   "cell_type": "code",
   "execution_count": null,
   "metadata": {
    "id": "KdZtGpIJG8ft"
   },
   "outputs": [],
   "source": []
  },
  {
   "cell_type": "code",
   "execution_count": null,
   "metadata": {
    "id": "qG9wPNvo-BNE"
   },
   "outputs": [],
   "source": []
  },
  {
   "cell_type": "code",
   "execution_count": null,
   "metadata": {
    "id": "Rga3MMkRNgZz"
   },
   "outputs": [],
   "source": []
  },
  {
   "cell_type": "code",
   "execution_count": null,
   "metadata": {
    "id": "8OfCOLRjNgfQ"
   },
   "outputs": [],
   "source": []
  }
 ],
 "metadata": {
  "accelerator": "GPU",
  "colab": {
   "name": "split.ipynb",
   "provenance": []
  },
  "kernelspec": {
   "display_name": "Python 3 (ipykernel)",
   "language": "python",
   "name": "python3"
  },
  "language_info": {
   "codemirror_mode": {
    "name": "ipython",
    "version": 3
   },
   "file_extension": ".py",
   "mimetype": "text/x-python",
   "name": "python",
   "nbconvert_exporter": "python",
   "pygments_lexer": "ipython3",
   "version": "3.8.12"
  }
 },
 "nbformat": 4,
 "nbformat_minor": 1
}
